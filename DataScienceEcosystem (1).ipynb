{
 "cells": [
  {
   "cell_type": "markdown",
   "id": "fb238900",
   "metadata": {},
   "source": [
    "# Data Science Tools and Ecosystem"
   ]
  },
  {
   "cell_type": "markdown",
   "id": "528f90dc",
   "metadata": {},
   "source": [
    "In this notebook, Data Science Tools and Ecosystem are summarized."
   ]
  },
  {
   "cell_type": "markdown",
   "id": "b91f4cbd",
   "metadata": {},
   "source": [
    "**Objectives:**\n",
    "+ learning about tools used in data science\n",
    "+ learning how to use R studios \n",
    "+ learning about Git and GitHub"
   ]
  },
  {
   "cell_type": "markdown",
   "id": "1c6d3a5f",
   "metadata": {},
   "source": [
    "Some of the popular languages that Data Scientists use are:\n",
    "1. Python\n",
    "1. R\n",
    "1. SQL  "
   ]
  },
  {
   "cell_type": "markdown",
   "id": "fab288d8",
   "metadata": {},
   "source": [
    "Some of the commonly used libraries used by Data Scientists include:"
   ]
  },
  {
   "cell_type": "markdown",
   "id": "47e46b9b",
   "metadata": {},
   "source": [
    "1. Pandas\n",
    "2. Matplotlib\n",
    "3. NumPy"
   ]
  },
  {
   "cell_type": "markdown",
   "id": "51a2b51a",
   "metadata": {},
   "source": [
    "|Data Science Tools|\n",
    "|:--:              |\n",
    "|Jupyter Notebook  |\n",
    "|Zeppelin Notebook |\n",
    "|R Studio          |"
   ]
  },
  {
   "cell_type": "markdown",
   "id": "788e8bec",
   "metadata": {},
   "source": [
    "### Below are a few examples of evaluating arithmetic expressions in Pytho"
   ]
  },
  {
   "cell_type": "code",
   "execution_count": 1,
   "id": "fd366701",
   "metadata": {},
   "outputs": [
    {
     "name": "stdout",
     "output_type": "stream",
     "text": [
      "17\n"
     ]
    }
   ],
   "source": [
    "#This a simple arithmetic expression to mutiply then add integers\n",
    "print((3*4)+5)"
   ]
  },
  {
   "cell_type": "code",
   "execution_count": 2,
   "id": "8e43fca5",
   "metadata": {},
   "outputs": [
    {
     "name": "stdout",
     "output_type": "stream",
     "text": [
      "3.3333333333333335 hours\n"
     ]
    }
   ],
   "source": [
    "#This will convert 200 minutes to hours by diving by 60\n",
    "hours = 200/60\n",
    "print(hours,\"hours\")"
   ]
  },
  {
   "cell_type": "markdown",
   "id": "0ef1daed",
   "metadata": {},
   "source": [
    "## Author:\n",
    "Vidhi Damani"
   ]
  },
  {
   "cell_type": "code",
   "execution_count": null,
   "id": "ed8c8a1c",
   "metadata": {},
   "outputs": [],
   "source": []
  }
 ],
 "metadata": {
  "kernelspec": {
   "display_name": "Python 3 (ipykernel)",
   "language": "python",
   "name": "python3"
  },
  "language_info": {
   "codemirror_mode": {
    "name": "ipython",
    "version": 3
   },
   "file_extension": ".py",
   "mimetype": "text/x-python",
   "name": "python",
   "nbconvert_exporter": "python",
   "pygments_lexer": "ipython3",
   "version": "3.10.9"
  }
 },
 "nbformat": 4,
 "nbformat_minor": 5
}
